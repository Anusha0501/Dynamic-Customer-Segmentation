{
 "cells": [
  {
   "cell_type": "code",
   "execution_count": 1,
   "id": "866e7521",
   "metadata": {},
   "outputs": [],
   "source": [
    "import pandas as pd\n",
    "import numpy as np\n",
    "import seaborn as sns\n",
    "from datetime import datetime, date\n",
    "import matplotlib.pyplot as plt\n",
    "%matplotlib inline\n",
    "\n",
    "import warnings\n",
    "warnings.filterwarnings('ignore')"
   ]
  },
  {
   "cell_type": "code",
   "execution_count": 2,
   "id": "af44c03a",
   "metadata": {},
   "outputs": [
    {
     "data": {
      "text/html": [
       "<div>\n",
       "<style scoped>\n",
       "    .dataframe tbody tr th:only-of-type {\n",
       "        vertical-align: middle;\n",
       "    }\n",
       "\n",
       "    .dataframe tbody tr th {\n",
       "        vertical-align: top;\n",
       "    }\n",
       "\n",
       "    .dataframe thead th {\n",
       "        text-align: right;\n",
       "    }\n",
       "</style>\n",
       "<table border=\"1\" class=\"dataframe\">\n",
       "  <thead>\n",
       "    <tr style=\"text-align: right;\">\n",
       "      <th></th>\n",
       "      <th>customer_id</th>\n",
       "      <th>name</th>\n",
       "      <th>gender</th>\n",
       "      <th>past_3_years_bike_related_purchases</th>\n",
       "      <th>DOB</th>\n",
       "      <th>job_title</th>\n",
       "      <th>job_industry_category</th>\n",
       "      <th>wealth_segment</th>\n",
       "      <th>deceased_indicator</th>\n",
       "      <th>owns_car</th>\n",
       "      <th>tenure</th>\n",
       "    </tr>\n",
       "  </thead>\n",
       "  <tbody>\n",
       "    <tr>\n",
       "      <th>0</th>\n",
       "      <td>34</td>\n",
       "      <td>Jephthah Bachmann</td>\n",
       "      <td>U</td>\n",
       "      <td>59</td>\n",
       "      <td>1843-12-21</td>\n",
       "      <td>Legal Assistant</td>\n",
       "      <td>IT</td>\n",
       "      <td>Affluent Customer</td>\n",
       "      <td>N</td>\n",
       "      <td>No</td>\n",
       "      <td>20.0</td>\n",
       "    </tr>\n",
       "    <tr>\n",
       "      <th>1</th>\n",
       "      <td>144</td>\n",
       "      <td>Jory Barrabeale</td>\n",
       "      <td>U</td>\n",
       "      <td>71</td>\n",
       "      <td>NaN</td>\n",
       "      <td>Environmental Tech</td>\n",
       "      <td>IT</td>\n",
       "      <td>Mass Customer</td>\n",
       "      <td>N</td>\n",
       "      <td>No</td>\n",
       "      <td>NaN</td>\n",
       "    </tr>\n",
       "    <tr>\n",
       "      <th>2</th>\n",
       "      <td>168</td>\n",
       "      <td>Reggie Broggetti</td>\n",
       "      <td>U</td>\n",
       "      <td>8</td>\n",
       "      <td>NaN</td>\n",
       "      <td>General Manager</td>\n",
       "      <td>IT</td>\n",
       "      <td>Affluent Customer</td>\n",
       "      <td>N</td>\n",
       "      <td>Yes</td>\n",
       "      <td>NaN</td>\n",
       "    </tr>\n",
       "    <tr>\n",
       "      <th>3</th>\n",
       "      <td>267</td>\n",
       "      <td>Edgar Buckler</td>\n",
       "      <td>U</td>\n",
       "      <td>53</td>\n",
       "      <td>NaN</td>\n",
       "      <td>NaN</td>\n",
       "      <td>IT</td>\n",
       "      <td>High Net Worth</td>\n",
       "      <td>N</td>\n",
       "      <td>No</td>\n",
       "      <td>NaN</td>\n",
       "    </tr>\n",
       "    <tr>\n",
       "      <th>4</th>\n",
       "      <td>290</td>\n",
       "      <td>Giorgio Kevane</td>\n",
       "      <td>U</td>\n",
       "      <td>42</td>\n",
       "      <td>NaN</td>\n",
       "      <td>Senior Sales Associate</td>\n",
       "      <td>IT</td>\n",
       "      <td>Mass Customer</td>\n",
       "      <td>N</td>\n",
       "      <td>No</td>\n",
       "      <td>NaN</td>\n",
       "    </tr>\n",
       "    <tr>\n",
       "      <th>...</th>\n",
       "      <td>...</td>\n",
       "      <td>...</td>\n",
       "      <td>...</td>\n",
       "      <td>...</td>\n",
       "      <td>...</td>\n",
       "      <td>...</td>\n",
       "      <td>...</td>\n",
       "      <td>...</td>\n",
       "      <td>...</td>\n",
       "      <td>...</td>\n",
       "      <td>...</td>\n",
       "    </tr>\n",
       "    <tr>\n",
       "      <th>3995</th>\n",
       "      <td>2858</td>\n",
       "      <td>Benedicto Radki</td>\n",
       "      <td>Male</td>\n",
       "      <td>4</td>\n",
       "      <td>2002-01-09 00:00:00</td>\n",
       "      <td>Recruiting Manager</td>\n",
       "      <td>NaN</td>\n",
       "      <td>Mass Customer</td>\n",
       "      <td>N</td>\n",
       "      <td>Yes</td>\n",
       "      <td>1.0</td>\n",
       "    </tr>\n",
       "    <tr>\n",
       "      <th>3996</th>\n",
       "      <td>3173</td>\n",
       "      <td>Angelo</td>\n",
       "      <td>Male</td>\n",
       "      <td>55</td>\n",
       "      <td>2001-10-10 00:00:00</td>\n",
       "      <td>Computer Systems Analyst I</td>\n",
       "      <td>Health</td>\n",
       "      <td>Mass Customer</td>\n",
       "      <td>N</td>\n",
       "      <td>Yes</td>\n",
       "      <td>1.0</td>\n",
       "    </tr>\n",
       "    <tr>\n",
       "      <th>3997</th>\n",
       "      <td>3435</td>\n",
       "      <td>Stevena Allcock</td>\n",
       "      <td>Female</td>\n",
       "      <td>80</td>\n",
       "      <td>2002-01-15 00:00:00</td>\n",
       "      <td>Senior Editor</td>\n",
       "      <td>NaN</td>\n",
       "      <td>Affluent Customer</td>\n",
       "      <td>N</td>\n",
       "      <td>No</td>\n",
       "      <td>1.0</td>\n",
       "    </tr>\n",
       "    <tr>\n",
       "      <th>3998</th>\n",
       "      <td>3949</td>\n",
       "      <td>Costa Sleightholm</td>\n",
       "      <td>Male</td>\n",
       "      <td>24</td>\n",
       "      <td>2001-12-19 00:00:00</td>\n",
       "      <td>Web Designer IV</td>\n",
       "      <td>Manufacturing</td>\n",
       "      <td>High Net Worth</td>\n",
       "      <td>N</td>\n",
       "      <td>Yes</td>\n",
       "      <td>1.0</td>\n",
       "    </tr>\n",
       "    <tr>\n",
       "      <th>3999</th>\n",
       "      <td>3997</td>\n",
       "      <td>Blanch Nisuis</td>\n",
       "      <td>Female</td>\n",
       "      <td>87</td>\n",
       "      <td>2001-07-13 00:00:00</td>\n",
       "      <td>Statistician II</td>\n",
       "      <td>Manufacturing</td>\n",
       "      <td>High Net Worth</td>\n",
       "      <td>N</td>\n",
       "      <td>Yes</td>\n",
       "      <td>1.0</td>\n",
       "    </tr>\n",
       "  </tbody>\n",
       "</table>\n",
       "<p>4000 rows × 11 columns</p>\n",
       "</div>"
      ],
      "text/plain": [
       "      customer_id               name  gender  \\\n",
       "0              34  Jephthah Bachmann       U   \n",
       "1             144    Jory Barrabeale       U   \n",
       "2             168   Reggie Broggetti       U   \n",
       "3             267      Edgar Buckler       U   \n",
       "4             290     Giorgio Kevane       U   \n",
       "...           ...                ...     ...   \n",
       "3995         2858    Benedicto Radki    Male   \n",
       "3996         3173            Angelo     Male   \n",
       "3997         3435    Stevena Allcock  Female   \n",
       "3998         3949  Costa Sleightholm    Male   \n",
       "3999         3997      Blanch Nisuis  Female   \n",
       "\n",
       "      past_3_years_bike_related_purchases                  DOB  \\\n",
       "0                                      59           1843-12-21   \n",
       "1                                      71                  NaN   \n",
       "2                                       8                  NaN   \n",
       "3                                      53                  NaN   \n",
       "4                                      42                  NaN   \n",
       "...                                   ...                  ...   \n",
       "3995                                    4  2002-01-09 00:00:00   \n",
       "3996                                   55  2001-10-10 00:00:00   \n",
       "3997                                   80  2002-01-15 00:00:00   \n",
       "3998                                   24  2001-12-19 00:00:00   \n",
       "3999                                   87  2001-07-13 00:00:00   \n",
       "\n",
       "                       job_title job_industry_category     wealth_segment  \\\n",
       "0                Legal Assistant                    IT  Affluent Customer   \n",
       "1             Environmental Tech                    IT      Mass Customer   \n",
       "2                General Manager                    IT  Affluent Customer   \n",
       "3                            NaN                    IT     High Net Worth   \n",
       "4         Senior Sales Associate                    IT      Mass Customer   \n",
       "...                          ...                   ...                ...   \n",
       "3995          Recruiting Manager                   NaN      Mass Customer   \n",
       "3996  Computer Systems Analyst I                Health      Mass Customer   \n",
       "3997               Senior Editor                   NaN  Affluent Customer   \n",
       "3998             Web Designer IV         Manufacturing     High Net Worth   \n",
       "3999             Statistician II         Manufacturing     High Net Worth   \n",
       "\n",
       "     deceased_indicator owns_car  tenure  \n",
       "0                     N       No    20.0  \n",
       "1                     N       No     NaN  \n",
       "2                     N      Yes     NaN  \n",
       "3                     N       No     NaN  \n",
       "4                     N       No     NaN  \n",
       "...                 ...      ...     ...  \n",
       "3995                  N      Yes     1.0  \n",
       "3996                  N      Yes     1.0  \n",
       "3997                  N       No     1.0  \n",
       "3998                  N      Yes     1.0  \n",
       "3999                  N      Yes     1.0  \n",
       "\n",
       "[4000 rows x 11 columns]"
      ]
     },
     "execution_count": 2,
     "metadata": {},
     "output_type": "execute_result"
    }
   ],
   "source": [
    "# Reading Excel file\n",
    "file_path = r\"D:\\Sem 3\\PRJ-1\\KPMG_VI_New_raw_data_update_final.xlsx\"\n",
    "worksheet_name = 'CustomerDemographic'\n",
    "dtype_mapping = {'DateOfBirth': str}\n",
    "custdemo_df = pd.read_excel(file_path, sheet_name=worksheet_name, dtype=dtype_mapping)\n",
    "custdemo_df"
   ]
  },
  {
   "cell_type": "markdown",
   "id": "42ab4b7b",
   "metadata": {},
   "source": [
    "<hr>"
   ]
  },
  {
   "cell_type": "markdown",
   "id": "a034c75c",
   "metadata": {},
   "source": [
    "# Data OverView"
   ]
  },
  {
   "cell_type": "code",
   "execution_count": 3,
   "id": "aac69d08",
   "metadata": {},
   "outputs": [
    {
     "name": "stdout",
     "output_type": "stream",
     "text": [
      "<class 'pandas.core.frame.DataFrame'>\n",
      "RangeIndex: 4000 entries, 0 to 3999\n",
      "Data columns (total 11 columns):\n",
      " #   Column                               Non-Null Count  Dtype  \n",
      "---  ------                               --------------  -----  \n",
      " 0   customer_id                          4000 non-null   int64  \n",
      " 1   name                                 4000 non-null   object \n",
      " 2   gender                               4000 non-null   object \n",
      " 3   past_3_years_bike_related_purchases  4000 non-null   int64  \n",
      " 4   DOB                                  3913 non-null   object \n",
      " 5   job_title                            3494 non-null   object \n",
      " 6   job_industry_category                3344 non-null   object \n",
      " 7   wealth_segment                       4000 non-null   object \n",
      " 8   deceased_indicator                   4000 non-null   object \n",
      " 9   owns_car                             4000 non-null   object \n",
      " 10  tenure                               3913 non-null   float64\n",
      "dtypes: float64(1), int64(2), object(8)\n",
      "memory usage: 343.9+ KB\n"
     ]
    }
   ],
   "source": [
    "custdemo_df.info()"
   ]
  },
  {
   "cell_type": "code",
   "execution_count": 4,
   "id": "1defc6d4",
   "metadata": {},
   "outputs": [
    {
     "name": "stdout",
     "output_type": "stream",
     "text": [
      "Total rows in the dataset : 4000\n",
      "Total columns in the dataset : 11\n"
     ]
    }
   ],
   "source": [
    "print(\"Total rows in the dataset : {}\".format(custdemo_df.shape[0]))\n",
    "print(\"Total columns in the dataset : {}\".format(custdemo_df.shape[1]))"
   ]
  },
  {
   "cell_type": "code",
   "execution_count": 5,
   "id": "ba678eec",
   "metadata": {},
   "outputs": [
    {
     "name": "stdout",
     "output_type": "stream",
     "text": [
      "The non-numeric columns are : ['name' 'gender' 'DOB' 'job_title' 'job_industry_category'\n",
      " 'wealth_segment' 'deceased_indicator' 'owns_car']\n",
      "\n",
      "The numeric columns are : ['customer_id' 'past_3_years_bike_related_purchases' 'tenure']\n"
     ]
    }
   ],
   "source": [
    "# select non-numeric columns\n",
    "df_non_numeric = custdemo_df.select_dtypes(exclude=[np.number])\n",
    "non_numeric_cols = df_non_numeric.columns.values\n",
    "print(\"The non-numeric columns are : {}\".format(non_numeric_cols))\n",
    "print()\n",
    "\n",
    "# select numeric columns\n",
    "df_numeric = custdemo_df.select_dtypes(include=[np.number])\n",
    "numeric_cols = df_numeric.columns.values\n",
    "print(\"The numeric columns are : {}\".format(numeric_cols))"
   ]
  },
  {
   "cell_type": "markdown",
   "id": "461bddd7",
   "metadata": {},
   "source": [
    "<hr>"
   ]
  },
  {
   "cell_type": "markdown",
   "id": "17b4969c",
   "metadata": {},
   "source": [
    "# Checking for the presence of any missing values"
   ]
  },
  {
   "cell_type": "markdown",
   "id": "f78264b0",
   "metadata": {},
   "source": [
    "If missing values are present for a particular feature then depending upon the situation the feature may be either dropped (cases when a major amount of data is missing) or an appropiate value will be imputed in the feature column with missing values."
   ]
  },
  {
   "cell_type": "code",
   "execution_count": 6,
   "id": "257e5d95",
   "metadata": {},
   "outputs": [
    {
     "data": {
      "text/plain": [
       "customer_id                              0\n",
       "name                                     0\n",
       "gender                                   0\n",
       "past_3_years_bike_related_purchases      0\n",
       "DOB                                     87\n",
       "job_title                              506\n",
       "job_industry_category                  656\n",
       "wealth_segment                           0\n",
       "deceased_indicator                       0\n",
       "owns_car                                 0\n",
       "tenure                                  87\n",
       "dtype: int64"
      ]
     },
     "execution_count": 6,
     "metadata": {},
     "output_type": "execute_result"
    }
   ],
   "source": [
    "# Total number of missing values\n",
    "custdemo_df.isnull().sum()"
   ]
  },
  {
   "cell_type": "markdown",
   "id": "ab5779d2",
   "metadata": {},
   "source": [
    "Here it is observed that columns like DOB, job_title, job_industry_category and tenure have missing values."
   ]
  },
  {
   "cell_type": "markdown",
   "id": "ee34d9f4",
   "metadata": {},
   "source": [
    "<hr>"
   ]
  },
  {
   "cell_type": "markdown",
   "id": "136e932c",
   "metadata": {},
   "source": [
    "# Working with Missing values"
   ]
  },
  {
   "cell_type": "markdown",
   "id": "779206dd",
   "metadata": {},
   "source": [
    "### Date of Birth Column"
   ]
  },
  {
   "cell_type": "code",
   "execution_count": 7,
   "id": "3e45d098",
   "metadata": {},
   "outputs": [
    {
     "data": {
      "text/html": [
       "<div>\n",
       "<style scoped>\n",
       "    .dataframe tbody tr th:only-of-type {\n",
       "        vertical-align: middle;\n",
       "    }\n",
       "\n",
       "    .dataframe tbody tr th {\n",
       "        vertical-align: top;\n",
       "    }\n",
       "\n",
       "    .dataframe thead th {\n",
       "        text-align: right;\n",
       "    }\n",
       "</style>\n",
       "<table border=\"1\" class=\"dataframe\">\n",
       "  <thead>\n",
       "    <tr style=\"text-align: right;\">\n",
       "      <th></th>\n",
       "      <th>customer_id</th>\n",
       "      <th>name</th>\n",
       "      <th>gender</th>\n",
       "      <th>past_3_years_bike_related_purchases</th>\n",
       "      <th>DOB</th>\n",
       "      <th>job_title</th>\n",
       "      <th>job_industry_category</th>\n",
       "      <th>wealth_segment</th>\n",
       "      <th>deceased_indicator</th>\n",
       "      <th>owns_car</th>\n",
       "      <th>tenure</th>\n",
       "    </tr>\n",
       "  </thead>\n",
       "  <tbody>\n",
       "    <tr>\n",
       "      <th>1</th>\n",
       "      <td>144</td>\n",
       "      <td>Jory Barrabeale</td>\n",
       "      <td>U</td>\n",
       "      <td>71</td>\n",
       "      <td>NaN</td>\n",
       "      <td>Environmental Tech</td>\n",
       "      <td>IT</td>\n",
       "      <td>Mass Customer</td>\n",
       "      <td>N</td>\n",
       "      <td>No</td>\n",
       "      <td>NaN</td>\n",
       "    </tr>\n",
       "    <tr>\n",
       "      <th>2</th>\n",
       "      <td>168</td>\n",
       "      <td>Reggie Broggetti</td>\n",
       "      <td>U</td>\n",
       "      <td>8</td>\n",
       "      <td>NaN</td>\n",
       "      <td>General Manager</td>\n",
       "      <td>IT</td>\n",
       "      <td>Affluent Customer</td>\n",
       "      <td>N</td>\n",
       "      <td>Yes</td>\n",
       "      <td>NaN</td>\n",
       "    </tr>\n",
       "    <tr>\n",
       "      <th>3</th>\n",
       "      <td>267</td>\n",
       "      <td>Edgar Buckler</td>\n",
       "      <td>U</td>\n",
       "      <td>53</td>\n",
       "      <td>NaN</td>\n",
       "      <td>NaN</td>\n",
       "      <td>IT</td>\n",
       "      <td>High Net Worth</td>\n",
       "      <td>N</td>\n",
       "      <td>No</td>\n",
       "      <td>NaN</td>\n",
       "    </tr>\n",
       "    <tr>\n",
       "      <th>4</th>\n",
       "      <td>290</td>\n",
       "      <td>Giorgio Kevane</td>\n",
       "      <td>U</td>\n",
       "      <td>42</td>\n",
       "      <td>NaN</td>\n",
       "      <td>Senior Sales Associate</td>\n",
       "      <td>IT</td>\n",
       "      <td>Mass Customer</td>\n",
       "      <td>N</td>\n",
       "      <td>No</td>\n",
       "      <td>NaN</td>\n",
       "    </tr>\n",
       "    <tr>\n",
       "      <th>5</th>\n",
       "      <td>451</td>\n",
       "      <td>Marlow Flowerdew</td>\n",
       "      <td>U</td>\n",
       "      <td>37</td>\n",
       "      <td>NaN</td>\n",
       "      <td>Quality Control Specialist</td>\n",
       "      <td>IT</td>\n",
       "      <td>High Net Worth</td>\n",
       "      <td>N</td>\n",
       "      <td>No</td>\n",
       "      <td>NaN</td>\n",
       "    </tr>\n",
       "    <tr>\n",
       "      <th>...</th>\n",
       "      <td>...</td>\n",
       "      <td>...</td>\n",
       "      <td>...</td>\n",
       "      <td>...</td>\n",
       "      <td>...</td>\n",
       "      <td>...</td>\n",
       "      <td>...</td>\n",
       "      <td>...</td>\n",
       "      <td>...</td>\n",
       "      <td>...</td>\n",
       "      <td>...</td>\n",
       "    </tr>\n",
       "    <tr>\n",
       "      <th>83</th>\n",
       "      <td>3779</td>\n",
       "      <td>Ulick Daspar</td>\n",
       "      <td>U</td>\n",
       "      <td>68</td>\n",
       "      <td>NaN</td>\n",
       "      <td>NaN</td>\n",
       "      <td>IT</td>\n",
       "      <td>Affluent Customer</td>\n",
       "      <td>N</td>\n",
       "      <td>No</td>\n",
       "      <td>NaN</td>\n",
       "    </tr>\n",
       "    <tr>\n",
       "      <th>84</th>\n",
       "      <td>3883</td>\n",
       "      <td>Nissa Conrad</td>\n",
       "      <td>U</td>\n",
       "      <td>35</td>\n",
       "      <td>NaN</td>\n",
       "      <td>Legal Assistant</td>\n",
       "      <td>IT</td>\n",
       "      <td>Mass Customer</td>\n",
       "      <td>N</td>\n",
       "      <td>No</td>\n",
       "      <td>NaN</td>\n",
       "    </tr>\n",
       "    <tr>\n",
       "      <th>85</th>\n",
       "      <td>3931</td>\n",
       "      <td>Kylie Epine</td>\n",
       "      <td>U</td>\n",
       "      <td>19</td>\n",
       "      <td>NaN</td>\n",
       "      <td>NaN</td>\n",
       "      <td>IT</td>\n",
       "      <td>High Net Worth</td>\n",
       "      <td>N</td>\n",
       "      <td>Yes</td>\n",
       "      <td>NaN</td>\n",
       "    </tr>\n",
       "    <tr>\n",
       "      <th>86</th>\n",
       "      <td>3935</td>\n",
       "      <td>Teodor Alfonsini</td>\n",
       "      <td>U</td>\n",
       "      <td>72</td>\n",
       "      <td>NaN</td>\n",
       "      <td>NaN</td>\n",
       "      <td>IT</td>\n",
       "      <td>High Net Worth</td>\n",
       "      <td>N</td>\n",
       "      <td>Yes</td>\n",
       "      <td>NaN</td>\n",
       "    </tr>\n",
       "    <tr>\n",
       "      <th>87</th>\n",
       "      <td>3998</td>\n",
       "      <td>Sarene Woolley</td>\n",
       "      <td>U</td>\n",
       "      <td>60</td>\n",
       "      <td>NaN</td>\n",
       "      <td>Assistant Manager</td>\n",
       "      <td>IT</td>\n",
       "      <td>High Net Worth</td>\n",
       "      <td>N</td>\n",
       "      <td>No</td>\n",
       "      <td>NaN</td>\n",
       "    </tr>\n",
       "  </tbody>\n",
       "</table>\n",
       "<p>87 rows × 11 columns</p>\n",
       "</div>"
      ],
      "text/plain": [
       "    customer_id              name gender  past_3_years_bike_related_purchases  \\\n",
       "1           144   Jory Barrabeale      U                                   71   \n",
       "2           168  Reggie Broggetti      U                                    8   \n",
       "3           267     Edgar Buckler      U                                   53   \n",
       "4           290    Giorgio Kevane      U                                   42   \n",
       "5           451  Marlow Flowerdew      U                                   37   \n",
       "..          ...               ...    ...                                  ...   \n",
       "83         3779      Ulick Daspar      U                                   68   \n",
       "84         3883      Nissa Conrad      U                                   35   \n",
       "85         3931       Kylie Epine      U                                   19   \n",
       "86         3935  Teodor Alfonsini      U                                   72   \n",
       "87         3998    Sarene Woolley      U                                   60   \n",
       "\n",
       "    DOB                   job_title job_industry_category     wealth_segment  \\\n",
       "1   NaN          Environmental Tech                    IT      Mass Customer   \n",
       "2   NaN             General Manager                    IT  Affluent Customer   \n",
       "3   NaN                         NaN                    IT     High Net Worth   \n",
       "4   NaN      Senior Sales Associate                    IT      Mass Customer   \n",
       "5   NaN  Quality Control Specialist                    IT     High Net Worth   \n",
       "..  ...                         ...                   ...                ...   \n",
       "83  NaN                         NaN                    IT  Affluent Customer   \n",
       "84  NaN             Legal Assistant                    IT      Mass Customer   \n",
       "85  NaN                         NaN                    IT     High Net Worth   \n",
       "86  NaN                         NaN                    IT     High Net Worth   \n",
       "87  NaN           Assistant Manager                    IT     High Net Worth   \n",
       "\n",
       "   deceased_indicator owns_car  tenure  \n",
       "1                   N       No     NaN  \n",
       "2                   N      Yes     NaN  \n",
       "3                   N       No     NaN  \n",
       "4                   N       No     NaN  \n",
       "5                   N       No     NaN  \n",
       "..                ...      ...     ...  \n",
       "83                  N       No     NaN  \n",
       "84                  N       No     NaN  \n",
       "85                  N      Yes     NaN  \n",
       "86                  N      Yes     NaN  \n",
       "87                  N       No     NaN  \n",
       "\n",
       "[87 rows x 11 columns]"
      ]
     },
     "execution_count": 7,
     "metadata": {},
     "output_type": "execute_result"
    }
   ],
   "source": [
    "custdemo_df[custdemo_df['DOB'].isnull()]"
   ]
  },
  {
   "cell_type": "code",
   "execution_count": 8,
   "id": "62b28f11",
   "metadata": {},
   "outputs": [
    {
     "data": {
      "text/plain": [
       "2"
      ]
     },
     "execution_count": 8,
     "metadata": {},
     "output_type": "execute_result"
    }
   ],
   "source": [
    "round(custdemo_df['DOB'].isnull().mean()*100)"
   ]
  },
  {
   "cell_type": "markdown",
   "id": "3e3bbb12",
   "metadata": {},
   "source": [
    "Since less than 5 % of data has null date of birth. we can remove the records where date of birth is null."
   ]
  },
  {
   "cell_type": "code",
   "execution_count": 9,
   "id": "532b3fd7",
   "metadata": {},
   "outputs": [
    {
     "data": {
      "text/plain": [
       "Index([ 1,  2,  3,  4,  5,  6,  7,  8,  9, 10, 11, 12, 13, 14, 15, 16, 17, 18,\n",
       "       19, 20, 21, 22, 23, 24, 25, 26, 27, 28, 29, 30, 31, 32, 33, 34, 35, 36,\n",
       "       37, 38, 39, 40, 41, 42, 43, 44, 45, 46, 47, 48, 49, 50, 51, 52, 53, 54,\n",
       "       55, 56, 57, 58, 59, 60, 61, 62, 63, 64, 65, 66, 67, 68, 69, 70, 71, 72,\n",
       "       73, 74, 75, 76, 77, 78, 79, 80, 81, 82, 83, 84, 85, 86, 87],\n",
       "      dtype='int64')"
      ]
     },
     "execution_count": 9,
     "metadata": {},
     "output_type": "execute_result"
    }
   ],
   "source": [
    "dob_index_drop = custdemo_df[custdemo_df['DOB'].isnull()].index\n",
    "dob_index_drop"
   ]
  },
  {
   "cell_type": "code",
   "execution_count": 10,
   "id": "1fec294a",
   "metadata": {},
   "outputs": [
    {
     "data": {
      "text/plain": [
       "0"
      ]
     },
     "execution_count": 10,
     "metadata": {},
     "output_type": "execute_result"
    }
   ],
   "source": [
    "custdemo_df.drop(index=dob_index_drop, inplace=True, axis=0)\n",
    "custdemo_df['DOB'].isnull().sum()"
   ]
  },
  {
   "cell_type": "markdown",
   "id": "cfa1840d",
   "metadata": {},
   "source": [
    "Currently there are no missing values for DOB column."
   ]
  },
  {
   "cell_type": "markdown",
   "id": "692e0c52",
   "metadata": {},
   "source": [
    "#### EXtracting Age from Date of Birth"
   ]
  },
  {
   "cell_type": "code",
   "execution_count": 11,
   "id": "da6be35c",
   "metadata": {},
   "outputs": [],
   "source": [
    "custdemo_df['DOB'] = pd.to_datetime(custdemo_df['DOB'])\n",
    "def age(born):\n",
    "    today = date.today()\n",
    "    return today.year - born.year - ((today.month, today.day) < (born.month, born.day))\n",
    "\n",
    "custdemo_df['Age'] = custdemo_df['DOB'].apply(age)"
   ]
  },
  {
   "cell_type": "code",
   "execution_count": 12,
   "id": "8fdd761f",
   "metadata": {},
   "outputs": [
    {
     "data": {
      "text/plain": [
       "count    3913.000000\n",
       "mean       45.923588\n",
       "std        12.793029\n",
       "min        21.000000\n",
       "25%        36.000000\n",
       "50%        46.000000\n",
       "75%        55.000000\n",
       "max       179.000000\n",
       "Name: Age, dtype: float64"
      ]
     },
     "execution_count": 12,
     "metadata": {},
     "output_type": "execute_result"
    }
   ],
   "source": [
    "custdemo_df['Age'].describe()"
   ]
  },
  {
   "cell_type": "markdown",
   "id": "59581a94",
   "metadata": {},
   "source": [
    "Here we find there is only 1 customer with an age of 179. Clearly this is an outlier since the 75th percentile of Age is 55."
   ]
  },
  {
   "cell_type": "code",
   "execution_count": 13,
   "id": "e4835417",
   "metadata": {},
   "outputs": [
    {
     "data": {
      "text/html": [
       "<div>\n",
       "<style scoped>\n",
       "    .dataframe tbody tr th:only-of-type {\n",
       "        vertical-align: middle;\n",
       "    }\n",
       "\n",
       "    .dataframe tbody tr th {\n",
       "        vertical-align: top;\n",
       "    }\n",
       "\n",
       "    .dataframe thead th {\n",
       "        text-align: right;\n",
       "    }\n",
       "</style>\n",
       "<table border=\"1\" class=\"dataframe\">\n",
       "  <thead>\n",
       "    <tr style=\"text-align: right;\">\n",
       "      <th></th>\n",
       "      <th>customer_id</th>\n",
       "      <th>name</th>\n",
       "      <th>gender</th>\n",
       "      <th>past_3_years_bike_related_purchases</th>\n",
       "      <th>DOB</th>\n",
       "      <th>job_title</th>\n",
       "      <th>job_industry_category</th>\n",
       "      <th>wealth_segment</th>\n",
       "      <th>deceased_indicator</th>\n",
       "      <th>owns_car</th>\n",
       "      <th>tenure</th>\n",
       "      <th>Age</th>\n",
       "    </tr>\n",
       "  </thead>\n",
       "  <tbody>\n",
       "    <tr>\n",
       "      <th>0</th>\n",
       "      <td>34</td>\n",
       "      <td>Jephthah Bachmann</td>\n",
       "      <td>U</td>\n",
       "      <td>59</td>\n",
       "      <td>1843-12-21</td>\n",
       "      <td>Legal Assistant</td>\n",
       "      <td>IT</td>\n",
       "      <td>Affluent Customer</td>\n",
       "      <td>N</td>\n",
       "      <td>No</td>\n",
       "      <td>20.0</td>\n",
       "      <td>179</td>\n",
       "    </tr>\n",
       "  </tbody>\n",
       "</table>\n",
       "</div>"
      ],
      "text/plain": [
       "   customer_id               name gender  past_3_years_bike_related_purchases  \\\n",
       "0           34  Jephthah Bachmann      U                                   59   \n",
       "\n",
       "         DOB        job_title job_industry_category     wealth_segment  \\\n",
       "0 1843-12-21  Legal Assistant                    IT  Affluent Customer   \n",
       "\n",
       "  deceased_indicator owns_car  tenure  Age  \n",
       "0                  N       No    20.0  179  "
      ]
     },
     "execution_count": 13,
     "metadata": {},
     "output_type": "execute_result"
    }
   ],
   "source": [
    "custdemo_df[custdemo_df['Age'] > 100]"
   ]
  },
  {
   "cell_type": "markdown",
   "id": "6af4be44",
   "metadata": {},
   "source": [
    "Here we see a customer with age 179 which is an outlier. hence we need to remove this record."
   ]
  },
  {
   "cell_type": "code",
   "execution_count": 14,
   "id": "f1c06163",
   "metadata": {},
   "outputs": [],
   "source": [
    "age_index_drop = custdemo_df[custdemo_df['Age']>100].index\n",
    "custdemo_df.drop(index=age_index_drop, inplace=True , axis=0)"
   ]
  },
  {
   "cell_type": "code",
   "execution_count": 31,
   "id": "32493990",
   "metadata": {},
   "outputs": [
    {
     "data": {
      "image/png": "[encoded data removed]",
      "text/plain": [
       "<Figure size 1400x800 with 1 Axes>"
      ]
     },
     "metadata": {},
     "output_type": "display_data"
    }
   ],
   "source": [
    "# Set the style of seaborn for better aesthetics\n",
    "sns.set(style=\"whitegrid\", font_scale=1.2)\n",
    "\n",
    "# Create a figure and axis with appropriate size\n",
    "plt.figure(figsize=(14, 8))\n",
    "\n",
    "# Plot a kernel density estimate along with a histogram\n",
    "sns.histplot(custdemo_df['Age'], kde=True, bins=50, color='skyblue', edgecolor='black')\n",
    "\n",
    "# Customize the title and labels\n",
    "plt.title('Age Distribution of Customers', fontsize=18)\n",
    "plt.xlabel('Age', fontsize=14)\n",
    "plt.ylabel('Frequency', fontsize=14)\n",
    "\n",
    "# Add a vertical line for the mean age\n",
    "mean_age = custdemo_df['Age'].mean()\n",
    "plt.axvline(mean_age, color='red', linestyle='dashed', linewidth=2, label=f'Mean Age: {mean_age:.2f}')\n",
    "plt.legend()\n",
    "\n",
    "# Customize the grid and ticks\n",
    "plt.grid(axis='y', linestyle='--', alpha=0.7)\n",
    "plt.xticks(range(0, max(custdemo_df['Age'])+1, 5))\n",
    "\n",
    "# Show the plot\n",
    "plt.show()"
   ]
  },
  {
   "cell_type": "markdown",
   "id": "25825b49",
   "metadata": {},
   "source": [
    "### Tenure Column"
   ]
  },
  {
   "cell_type": "code",
   "execution_count": 16,
   "id": "7da3e624",
   "metadata": {},
   "outputs": [
    {
     "data": {
      "text/plain": [
       "0"
      ]
     },
     "execution_count": 16,
     "metadata": {},
     "output_type": "execute_result"
    }
   ],
   "source": [
    "custdemo_df['tenure'].isnull().sum()"
   ]
  },
  {
   "cell_type": "markdown",
   "id": "2e6b841f",
   "metadata": {},
   "source": [
    "There are no missing values for Tenure column.\n",
    "After removing null DOBs from dataframe , null tenures were also removed."
   ]
  },
  {
   "cell_type": "markdown",
   "id": "94e5171b",
   "metadata": {},
   "source": [
    "### Job Title Column"
   ]
  },
  {
   "cell_type": "code",
   "execution_count": 17,
   "id": "77f04bb0",
   "metadata": {},
   "outputs": [
    {
     "data": {
      "text/html": [
       "<div>\n",
       "<style scoped>\n",
       "    .dataframe tbody tr th:only-of-type {\n",
       "        vertical-align: middle;\n",
       "    }\n",
       "\n",
       "    .dataframe tbody tr th {\n",
       "        vertical-align: top;\n",
       "    }\n",
       "\n",
       "    .dataframe thead th {\n",
       "        text-align: right;\n",
       "    }\n",
       "</style>\n",
       "<table border=\"1\" class=\"dataframe\">\n",
       "  <thead>\n",
       "    <tr style=\"text-align: right;\">\n",
       "      <th></th>\n",
       "      <th>customer_id</th>\n",
       "      <th>name</th>\n",
       "      <th>gender</th>\n",
       "      <th>past_3_years_bike_related_purchases</th>\n",
       "      <th>DOB</th>\n",
       "      <th>job_title</th>\n",
       "      <th>job_industry_category</th>\n",
       "      <th>wealth_segment</th>\n",
       "      <th>deceased_indicator</th>\n",
       "      <th>owns_car</th>\n",
       "      <th>tenure</th>\n",
       "      <th>Age</th>\n",
       "    </tr>\n",
       "  </thead>\n",
       "  <tbody>\n",
       "    <tr>\n",
       "      <th>90</th>\n",
       "      <td>3410</td>\n",
       "      <td>Merrili Brittin</td>\n",
       "      <td>Female</td>\n",
       "      <td>93</td>\n",
       "      <td>1940-09-22</td>\n",
       "      <td>NaN</td>\n",
       "      <td>Property</td>\n",
       "      <td>Mass Customer</td>\n",
       "      <td>N</td>\n",
       "      <td>No</td>\n",
       "      <td>16.0</td>\n",
       "      <td>83</td>\n",
       "    </tr>\n",
       "    <tr>\n",
       "      <th>95</th>\n",
       "      <td>11</td>\n",
       "      <td>Uriah Bisatt</td>\n",
       "      <td>Male</td>\n",
       "      <td>99</td>\n",
       "      <td>1954-04-30</td>\n",
       "      <td>NaN</td>\n",
       "      <td>Property</td>\n",
       "      <td>Mass Customer</td>\n",
       "      <td>N</td>\n",
       "      <td>No</td>\n",
       "      <td>9.0</td>\n",
       "      <td>69</td>\n",
       "    </tr>\n",
       "    <tr>\n",
       "      <th>116</th>\n",
       "      <td>2208</td>\n",
       "      <td>Lavena Embling</td>\n",
       "      <td>Female</td>\n",
       "      <td>59</td>\n",
       "      <td>1954-05-07</td>\n",
       "      <td>NaN</td>\n",
       "      <td>NaN</td>\n",
       "      <td>Mass Customer</td>\n",
       "      <td>N</td>\n",
       "      <td>No</td>\n",
       "      <td>9.0</td>\n",
       "      <td>69</td>\n",
       "    </tr>\n",
       "    <tr>\n",
       "      <th>137</th>\n",
       "      <td>3806</td>\n",
       "      <td>Ado Gailor</td>\n",
       "      <td>Male</td>\n",
       "      <td>1</td>\n",
       "      <td>1954-02-08</td>\n",
       "      <td>NaN</td>\n",
       "      <td>Property</td>\n",
       "      <td>Mass Customer</td>\n",
       "      <td>N</td>\n",
       "      <td>No</td>\n",
       "      <td>7.0</td>\n",
       "      <td>69</td>\n",
       "    </tr>\n",
       "    <tr>\n",
       "      <th>155</th>\n",
       "      <td>691</td>\n",
       "      <td>Carver Carwardine</td>\n",
       "      <td>Male</td>\n",
       "      <td>29</td>\n",
       "      <td>1954-08-25</td>\n",
       "      <td>NaN</td>\n",
       "      <td>Financial Services</td>\n",
       "      <td>Affluent Customer</td>\n",
       "      <td>N</td>\n",
       "      <td>Yes</td>\n",
       "      <td>5.0</td>\n",
       "      <td>69</td>\n",
       "    </tr>\n",
       "    <tr>\n",
       "      <th>...</th>\n",
       "      <td>...</td>\n",
       "      <td>...</td>\n",
       "      <td>...</td>\n",
       "      <td>...</td>\n",
       "      <td>...</td>\n",
       "      <td>...</td>\n",
       "      <td>...</td>\n",
       "      <td>...</td>\n",
       "      <td>...</td>\n",
       "      <td>...</td>\n",
       "      <td>...</td>\n",
       "      <td>...</td>\n",
       "    </tr>\n",
       "    <tr>\n",
       "      <th>3965</th>\n",
       "      <td>2869</td>\n",
       "      <td>Gavra Woolvin</td>\n",
       "      <td>Female</td>\n",
       "      <td>19</td>\n",
       "      <td>2001-01-16</td>\n",
       "      <td>NaN</td>\n",
       "      <td>Manufacturing</td>\n",
       "      <td>Affluent Customer</td>\n",
       "      <td>N</td>\n",
       "      <td>No</td>\n",
       "      <td>2.0</td>\n",
       "      <td>22</td>\n",
       "    </tr>\n",
       "    <tr>\n",
       "      <th>3974</th>\n",
       "      <td>3459</td>\n",
       "      <td>Emelda Ramsdell</td>\n",
       "      <td>Female</td>\n",
       "      <td>62</td>\n",
       "      <td>2000-11-24</td>\n",
       "      <td>NaN</td>\n",
       "      <td>Entertainment</td>\n",
       "      <td>Mass Customer</td>\n",
       "      <td>N</td>\n",
       "      <td>Yes</td>\n",
       "      <td>2.0</td>\n",
       "      <td>23</td>\n",
       "    </tr>\n",
       "    <tr>\n",
       "      <th>3977</th>\n",
       "      <td>3749</td>\n",
       "      <td>Blondelle Swynley</td>\n",
       "      <td>Female</td>\n",
       "      <td>3</td>\n",
       "      <td>2001-04-21</td>\n",
       "      <td>NaN</td>\n",
       "      <td>IT</td>\n",
       "      <td>Affluent Customer</td>\n",
       "      <td>N</td>\n",
       "      <td>No</td>\n",
       "      <td>1.0</td>\n",
       "      <td>22</td>\n",
       "    </tr>\n",
       "    <tr>\n",
       "      <th>3982</th>\n",
       "      <td>422</td>\n",
       "      <td>Vito Norker</td>\n",
       "      <td>Male</td>\n",
       "      <td>78</td>\n",
       "      <td>2002-01-06</td>\n",
       "      <td>NaN</td>\n",
       "      <td>Manufacturing</td>\n",
       "      <td>Affluent Customer</td>\n",
       "      <td>N</td>\n",
       "      <td>No</td>\n",
       "      <td>1.0</td>\n",
       "      <td>21</td>\n",
       "    </tr>\n",
       "    <tr>\n",
       "      <th>3983</th>\n",
       "      <td>442</td>\n",
       "      <td>Linc Vedyasov</td>\n",
       "      <td>Male</td>\n",
       "      <td>2</td>\n",
       "      <td>2001-10-06</td>\n",
       "      <td>NaN</td>\n",
       "      <td>Financial Services</td>\n",
       "      <td>Mass Customer</td>\n",
       "      <td>N</td>\n",
       "      <td>No</td>\n",
       "      <td>1.0</td>\n",
       "      <td>22</td>\n",
       "    </tr>\n",
       "  </tbody>\n",
       "</table>\n",
       "<p>497 rows × 12 columns</p>\n",
       "</div>"
      ],
      "text/plain": [
       "      customer_id               name  gender  \\\n",
       "90           3410    Merrili Brittin  Female   \n",
       "95             11       Uriah Bisatt    Male   \n",
       "116          2208     Lavena Embling  Female   \n",
       "137          3806         Ado Gailor    Male   \n",
       "155           691  Carver Carwardine    Male   \n",
       "...           ...                ...     ...   \n",
       "3965         2869      Gavra Woolvin  Female   \n",
       "3974         3459    Emelda Ramsdell  Female   \n",
       "3977         3749  Blondelle Swynley  Female   \n",
       "3982          422        Vito Norker    Male   \n",
       "3983          442      Linc Vedyasov    Male   \n",
       "\n",
       "      past_3_years_bike_related_purchases        DOB job_title  \\\n",
       "90                                     93 1940-09-22       NaN   \n",
       "95                                     99 1954-04-30       NaN   \n",
       "116                                    59 1954-05-07       NaN   \n",
       "137                                     1 1954-02-08       NaN   \n",
       "155                                    29 1954-08-25       NaN   \n",
       "...                                   ...        ...       ...   \n",
       "3965                                   19 2001-01-16       NaN   \n",
       "3974                                   62 2000-11-24       NaN   \n",
       "3977                                    3 2001-04-21       NaN   \n",
       "3982                                   78 2002-01-06       NaN   \n",
       "3983                                    2 2001-10-06       NaN   \n",
       "\n",
       "     job_industry_category     wealth_segment deceased_indicator owns_car  \\\n",
       "90                Property      Mass Customer                  N       No   \n",
       "95                Property      Mass Customer                  N       No   \n",
       "116                    NaN      Mass Customer                  N       No   \n",
       "137               Property      Mass Customer                  N       No   \n",
       "155     Financial Services  Affluent Customer                  N      Yes   \n",
       "...                    ...                ...                ...      ...   \n",
       "3965         Manufacturing  Affluent Customer                  N       No   \n",
       "3974         Entertainment      Mass Customer                  N      Yes   \n",
       "3977                    IT  Affluent Customer                  N       No   \n",
       "3982         Manufacturing  Affluent Customer                  N       No   \n",
       "3983    Financial Services      Mass Customer                  N       No   \n",
       "\n",
       "      tenure  Age  \n",
       "90      16.0   83  \n",
       "95       9.0   69  \n",
       "116      9.0   69  \n",
       "137      7.0   69  \n",
       "155      5.0   69  \n",
       "...      ...  ...  \n",
       "3965     2.0   22  \n",
       "3974     2.0   23  \n",
       "3977     1.0   22  \n",
       "3982     1.0   21  \n",
       "3983     1.0   22  \n",
       "\n",
       "[497 rows x 12 columns]"
      ]
     },
     "execution_count": 17,
     "metadata": {},
     "output_type": "execute_result"
    }
   ],
   "source": [
    "# Fetching records where Job Title is missing.\n",
    "custdemo_df[custdemo_df['job_title'].isnull()]"
   ]
  },
  {
   "cell_type": "code",
   "execution_count": 18,
   "id": "c96bae3b",
   "metadata": {},
   "outputs": [
    {
     "data": {
      "text/plain": [
       "13"
      ]
     },
     "execution_count": 18,
     "metadata": {},
     "output_type": "execute_result"
    }
   ],
   "source": [
    "round(custdemo_df['job_title'].isnull().mean()*100)"
   ]
  },
  {
   "cell_type": "markdown",
   "id": "2eb586b2",
   "metadata": {},
   "source": [
    "Since Percentage of missing Job is 13. We will replace null values with Missing."
   ]
  },
  {
   "cell_type": "code",
   "execution_count": 19,
   "id": "847894d9",
   "metadata": {},
   "outputs": [
    {
     "data": {
      "text/plain": [
       "0"
      ]
     },
     "execution_count": 19,
     "metadata": {},
     "output_type": "execute_result"
    }
   ],
   "source": [
    "custdemo_df['job_title'].fillna('Missing', inplace=True, axis=0)\n",
    "custdemo_df['job_title'].isnull().sum()"
   ]
  },
  {
   "cell_type": "markdown",
   "id": "2412c709",
   "metadata": {},
   "source": [
    "Currently there are no missing values for job_title column."
   ]
  },
  {
   "cell_type": "markdown",
   "id": "e6fcd5da",
   "metadata": {},
   "source": [
    "### Job Industry Category Column"
   ]
  },
  {
   "cell_type": "code",
   "execution_count": 20,
   "id": "77f2a4d2",
   "metadata": {},
   "outputs": [
    {
     "data": {
      "text/html": [
       "<div>\n",
       "<style scoped>\n",
       "    .dataframe tbody tr th:only-of-type {\n",
       "        vertical-align: middle;\n",
       "    }\n",
       "\n",
       "    .dataframe tbody tr th {\n",
       "        vertical-align: top;\n",
       "    }\n",
       "\n",
       "    .dataframe thead th {\n",
       "        text-align: right;\n",
       "    }\n",
       "</style>\n",
       "<table border=\"1\" class=\"dataframe\">\n",
       "  <thead>\n",
       "    <tr style=\"text-align: right;\">\n",
       "      <th></th>\n",
       "      <th>customer_id</th>\n",
       "      <th>name</th>\n",
       "      <th>gender</th>\n",
       "      <th>past_3_years_bike_related_purchases</th>\n",
       "      <th>DOB</th>\n",
       "      <th>job_title</th>\n",
       "      <th>job_industry_category</th>\n",
       "      <th>wealth_segment</th>\n",
       "      <th>deceased_indicator</th>\n",
       "      <th>owns_car</th>\n",
       "      <th>tenure</th>\n",
       "      <th>Age</th>\n",
       "    </tr>\n",
       "  </thead>\n",
       "  <tbody>\n",
       "    <tr>\n",
       "      <th>97</th>\n",
       "      <td>187</td>\n",
       "      <td>Pincas Ather</td>\n",
       "      <td>Male</td>\n",
       "      <td>97</td>\n",
       "      <td>1954-01-28</td>\n",
       "      <td>Structural Engineer</td>\n",
       "      <td>NaN</td>\n",
       "      <td>Mass Customer</td>\n",
       "      <td>N</td>\n",
       "      <td>No</td>\n",
       "      <td>11.0</td>\n",
       "      <td>69</td>\n",
       "    </tr>\n",
       "    <tr>\n",
       "      <th>116</th>\n",
       "      <td>2208</td>\n",
       "      <td>Lavena Embling</td>\n",
       "      <td>Female</td>\n",
       "      <td>59</td>\n",
       "      <td>1954-05-07</td>\n",
       "      <td>Missing</td>\n",
       "      <td>NaN</td>\n",
       "      <td>Mass Customer</td>\n",
       "      <td>N</td>\n",
       "      <td>No</td>\n",
       "      <td>9.0</td>\n",
       "      <td>69</td>\n",
       "    </tr>\n",
       "    <tr>\n",
       "      <th>117</th>\n",
       "      <td>2283</td>\n",
       "      <td>Gaspar Janaway</td>\n",
       "      <td>Male</td>\n",
       "      <td>44</td>\n",
       "      <td>1954-02-08</td>\n",
       "      <td>Software Consultant</td>\n",
       "      <td>NaN</td>\n",
       "      <td>High Net Worth</td>\n",
       "      <td>N</td>\n",
       "      <td>No</td>\n",
       "      <td>16.0</td>\n",
       "      <td>69</td>\n",
       "    </tr>\n",
       "    <tr>\n",
       "      <th>127</th>\n",
       "      <td>3100</td>\n",
       "      <td>Peggy Wrankling</td>\n",
       "      <td>Female</td>\n",
       "      <td>19</td>\n",
       "      <td>1954-02-09</td>\n",
       "      <td>Recruiter</td>\n",
       "      <td>NaN</td>\n",
       "      <td>Mass Customer</td>\n",
       "      <td>N</td>\n",
       "      <td>No</td>\n",
       "      <td>7.0</td>\n",
       "      <td>69</td>\n",
       "    </tr>\n",
       "    <tr>\n",
       "      <th>129</th>\n",
       "      <td>3259</td>\n",
       "      <td>Rabi</td>\n",
       "      <td>Male</td>\n",
       "      <td>74</td>\n",
       "      <td>1953-11-04</td>\n",
       "      <td>Quality Control Specialist</td>\n",
       "      <td>NaN</td>\n",
       "      <td>High Net Worth</td>\n",
       "      <td>N</td>\n",
       "      <td>No</td>\n",
       "      <td>10.0</td>\n",
       "      <td>70</td>\n",
       "    </tr>\n",
       "    <tr>\n",
       "      <th>...</th>\n",
       "      <td>...</td>\n",
       "      <td>...</td>\n",
       "      <td>...</td>\n",
       "      <td>...</td>\n",
       "      <td>...</td>\n",
       "      <td>...</td>\n",
       "      <td>...</td>\n",
       "      <td>...</td>\n",
       "      <td>...</td>\n",
       "      <td>...</td>\n",
       "      <td>...</td>\n",
       "      <td>...</td>\n",
       "    </tr>\n",
       "    <tr>\n",
       "      <th>3960</th>\n",
       "      <td>2588</td>\n",
       "      <td>Kimball Martinho</td>\n",
       "      <td>Male</td>\n",
       "      <td>37</td>\n",
       "      <td>2001-01-02</td>\n",
       "      <td>Professor</td>\n",
       "      <td>NaN</td>\n",
       "      <td>High Net Worth</td>\n",
       "      <td>N</td>\n",
       "      <td>No</td>\n",
       "      <td>2.0</td>\n",
       "      <td>22</td>\n",
       "    </tr>\n",
       "    <tr>\n",
       "      <th>3964</th>\n",
       "      <td>2812</td>\n",
       "      <td>Molli Hagergham</td>\n",
       "      <td>Female</td>\n",
       "      <td>16</td>\n",
       "      <td>2001-04-01</td>\n",
       "      <td>Budget/Accounting Analyst IV</td>\n",
       "      <td>NaN</td>\n",
       "      <td>High Net Worth</td>\n",
       "      <td>N</td>\n",
       "      <td>Yes</td>\n",
       "      <td>1.0</td>\n",
       "      <td>22</td>\n",
       "    </tr>\n",
       "    <tr>\n",
       "      <th>3968</th>\n",
       "      <td>3014</td>\n",
       "      <td>Terrijo Merlin</td>\n",
       "      <td>Female</td>\n",
       "      <td>59</td>\n",
       "      <td>2001-03-30</td>\n",
       "      <td>Software Engineer II</td>\n",
       "      <td>NaN</td>\n",
       "      <td>High Net Worth</td>\n",
       "      <td>N</td>\n",
       "      <td>No</td>\n",
       "      <td>1.0</td>\n",
       "      <td>22</td>\n",
       "    </tr>\n",
       "    <tr>\n",
       "      <th>3995</th>\n",
       "      <td>2858</td>\n",
       "      <td>Benedicto Radki</td>\n",
       "      <td>Male</td>\n",
       "      <td>4</td>\n",
       "      <td>2002-01-09</td>\n",
       "      <td>Recruiting Manager</td>\n",
       "      <td>NaN</td>\n",
       "      <td>Mass Customer</td>\n",
       "      <td>N</td>\n",
       "      <td>Yes</td>\n",
       "      <td>1.0</td>\n",
       "      <td>21</td>\n",
       "    </tr>\n",
       "    <tr>\n",
       "      <th>3997</th>\n",
       "      <td>3435</td>\n",
       "      <td>Stevena Allcock</td>\n",
       "      <td>Female</td>\n",
       "      <td>80</td>\n",
       "      <td>2002-01-15</td>\n",
       "      <td>Senior Editor</td>\n",
       "      <td>NaN</td>\n",
       "      <td>Affluent Customer</td>\n",
       "      <td>N</td>\n",
       "      <td>No</td>\n",
       "      <td>1.0</td>\n",
       "      <td>21</td>\n",
       "    </tr>\n",
       "  </tbody>\n",
       "</table>\n",
       "<p>656 rows × 12 columns</p>\n",
       "</div>"
      ],
      "text/plain": [
       "      customer_id              name  gender  \\\n",
       "97            187      Pincas Ather    Male   \n",
       "116          2208    Lavena Embling  Female   \n",
       "117          2283    Gaspar Janaway    Male   \n",
       "127          3100   Peggy Wrankling  Female   \n",
       "129          3259             Rabi     Male   \n",
       "...           ...               ...     ...   \n",
       "3960         2588  Kimball Martinho    Male   \n",
       "3964         2812   Molli Hagergham  Female   \n",
       "3968         3014    Terrijo Merlin  Female   \n",
       "3995         2858   Benedicto Radki    Male   \n",
       "3997         3435   Stevena Allcock  Female   \n",
       "\n",
       "      past_3_years_bike_related_purchases        DOB  \\\n",
       "97                                     97 1954-01-28   \n",
       "116                                    59 1954-05-07   \n",
       "117                                    44 1954-02-08   \n",
       "127                                    19 1954-02-09   \n",
       "129                                    74 1953-11-04   \n",
       "...                                   ...        ...   \n",
       "3960                                   37 2001-01-02   \n",
       "3964                                   16 2001-04-01   \n",
       "3968                                   59 2001-03-30   \n",
       "3995                                    4 2002-01-09   \n",
       "3997                                   80 2002-01-15   \n",
       "\n",
       "                         job_title job_industry_category     wealth_segment  \\\n",
       "97             Structural Engineer                   NaN      Mass Customer   \n",
       "116                        Missing                   NaN      Mass Customer   \n",
       "117            Software Consultant                   NaN     High Net Worth   \n",
       "127                      Recruiter                   NaN      Mass Customer   \n",
       "129     Quality Control Specialist                   NaN     High Net Worth   \n",
       "...                            ...                   ...                ...   \n",
       "3960                     Professor                   NaN     High Net Worth   \n",
       "3964  Budget/Accounting Analyst IV                   NaN     High Net Worth   \n",
       "3968          Software Engineer II                   NaN     High Net Worth   \n",
       "3995            Recruiting Manager                   NaN      Mass Customer   \n",
       "3997                 Senior Editor                   NaN  Affluent Customer   \n",
       "\n",
       "     deceased_indicator owns_car  tenure  Age  \n",
       "97                    N       No    11.0   69  \n",
       "116                   N       No     9.0   69  \n",
       "117                   N       No    16.0   69  \n",
       "127                   N       No     7.0   69  \n",
       "129                   N       No    10.0   70  \n",
       "...                 ...      ...     ...  ...  \n",
       "3960                  N       No     2.0   22  \n",
       "3964                  N      Yes     1.0   22  \n",
       "3968                  N       No     1.0   22  \n",
       "3995                  N      Yes     1.0   21  \n",
       "3997                  N       No     1.0   21  \n",
       "\n",
       "[656 rows x 12 columns]"
      ]
     },
     "execution_count": 20,
     "metadata": {},
     "output_type": "execute_result"
    }
   ],
   "source": [
    "custdemo_df[custdemo_df['job_industry_category'].isnull()]"
   ]
  },
  {
   "cell_type": "code",
   "execution_count": 21,
   "id": "a7a3f008",
   "metadata": {},
   "outputs": [
    {
     "data": {
      "text/plain": [
       "17"
      ]
     },
     "execution_count": 21,
     "metadata": {},
     "output_type": "execute_result"
    }
   ],
   "source": [
    "round(custdemo_df['job_industry_category'].isnull().mean()*100)"
   ]
  },
  {
   "cell_type": "markdown",
   "id": "66732564",
   "metadata": {},
   "source": [
    "Since Percentage of missing Job is 17. We will replace null values with Missing."
   ]
  },
  {
   "cell_type": "code",
   "execution_count": 22,
   "id": "c48e7b98",
   "metadata": {},
   "outputs": [
    {
     "data": {
      "text/plain": [
       "0"
      ]
     },
     "execution_count": 22,
     "metadata": {},
     "output_type": "execute_result"
    }
   ],
   "source": [
    "custdemo_df['job_industry_category'].fillna('Missing', inplace=True, axis=0)\n",
    "custdemo_df['job_industry_category'].isnull().sum()"
   ]
  },
  {
   "cell_type": "markdown",
   "id": "c92ad991",
   "metadata": {},
   "source": [
    "Finally there are no Missing Values in the dataset."
   ]
  },
  {
   "cell_type": "code",
   "execution_count": 23,
   "id": "60fad677",
   "metadata": {},
   "outputs": [
    {
     "data": {
      "text/plain": [
       "customer_id                            0\n",
       "name                                   0\n",
       "gender                                 0\n",
       "past_3_years_bike_related_purchases    0\n",
       "DOB                                    0\n",
       "job_title                              0\n",
       "job_industry_category                  0\n",
       "wealth_segment                         0\n",
       "deceased_indicator                     0\n",
       "owns_car                               0\n",
       "tenure                                 0\n",
       "Age                                    0\n",
       "dtype: int64"
      ]
     },
     "execution_count": 23,
     "metadata": {},
     "output_type": "execute_result"
    }
   ],
   "source": [
    "custdemo_df.isnull().sum()"
   ]
  },
  {
   "cell_type": "code",
   "execution_count": 24,
   "id": "d07220b9",
   "metadata": {},
   "outputs": [
    {
     "name": "stdout",
     "output_type": "stream",
     "text": [
      "Total records after removing Missing Values: 3912\n"
     ]
    }
   ],
   "source": [
    "print(\"Total records after removing Missing Values: {}\".format(custdemo_df.shape[0]))"
   ]
  },
  {
   "cell_type": "markdown",
   "id": "d2dee019",
   "metadata": {},
   "source": [
    "<hr>"
   ]
  },
  {
   "cell_type": "markdown",
   "id": "e20dbdf9",
   "metadata": {},
   "source": [
    "## Inconsistency Check into Dataset"
   ]
  },
  {
   "cell_type": "markdown",
   "id": "89164ec6",
   "metadata": {},
   "source": [
    "We will check whether there is inconsistent data / typo error data is present in the categorical columns.\n",
    "The columns to be checked are 'gender', 'wealth_segment' ,'deceased_indicator', 'owns_car'"
   ]
  },
  {
   "cell_type": "markdown",
   "id": "4c8e554c",
   "metadata": {},
   "source": [
    "### Gender Column"
   ]
  },
  {
   "cell_type": "code",
   "execution_count": 25,
   "id": "f09a141d",
   "metadata": {},
   "outputs": [
    {
     "data": {
      "text/plain": [
       "gender\n",
       "Female    2039\n",
       "Male      1873\n",
       "Name: count, dtype: int64"
      ]
     },
     "execution_count": 25,
     "metadata": {},
     "output_type": "execute_result"
    }
   ],
   "source": [
    "custdemo_df['gender'].value_counts()"
   ]
  },
  {
   "cell_type": "markdown",
   "id": "9d158b25",
   "metadata": {},
   "source": [
    "### Wealth Segment Column"
   ]
  },
  {
   "cell_type": "code",
   "execution_count": 26,
   "id": "8ff83a10",
   "metadata": {},
   "outputs": [
    {
     "data": {
      "text/plain": [
       "wealth_segment\n",
       "Mass Customer        1954\n",
       "High Net Worth        996\n",
       "Affluent Customer     962\n",
       "Name: count, dtype: int64"
      ]
     },
     "execution_count": 26,
     "metadata": {},
     "output_type": "execute_result"
    }
   ],
   "source": [
    "custdemo_df['wealth_segment'].value_counts()"
   ]
  },
  {
   "cell_type": "markdown",
   "id": "973f7653",
   "metadata": {},
   "source": [
    "### Deceased Indicator Column"
   ]
  },
  {
   "cell_type": "code",
   "execution_count": 27,
   "id": "21590fd4",
   "metadata": {},
   "outputs": [
    {
     "data": {
      "text/plain": [
       "deceased_indicator\n",
       "N    3910\n",
       "Y       2\n",
       "Name: count, dtype: int64"
      ]
     },
     "execution_count": 27,
     "metadata": {},
     "output_type": "execute_result"
    }
   ],
   "source": [
    "custdemo_df['deceased_indicator'].value_counts()"
   ]
  },
  {
   "cell_type": "markdown",
   "id": "6d3e9e1f",
   "metadata": {},
   "source": [
    "### Owns a Car Column"
   ]
  },
  {
   "cell_type": "code",
   "execution_count": 28,
   "id": "71bb3ff8",
   "metadata": {},
   "outputs": [
    {
     "data": {
      "text/plain": [
       "owns_car\n",
       "Yes    1974\n",
       "No     1938\n",
       "Name: count, dtype: int64"
      ]
     },
     "execution_count": 28,
     "metadata": {},
     "output_type": "execute_result"
    }
   ],
   "source": [
    "custdemo_df['owns_car'].value_counts()"
   ]
  },
  {
   "cell_type": "markdown",
   "id": "e0d6face",
   "metadata": {},
   "source": [
    "<hr>"
   ]
  },
  {
   "cell_type": "markdown",
   "id": "86ed2f50",
   "metadata": {},
   "source": [
    "### Duplication Checks"
   ]
  },
  {
   "cell_type": "markdown",
   "id": "ff343073",
   "metadata": {},
   "source": [
    "To ensure the dataset's integrity and prevent data analysis errors resulting from poor data quality, it is crucial to eliminate duplicate records. If the dataset contains duplicate rows, they should be removed.\n",
    "\n",
    "To identify and eliminate duplicate records, we follow these steps:\n",
    "\n",
    "1. **Preparation:** Initially, exclude the primary key column from consideration since it's expected to be unique.\n",
    "\n",
    "2. **Duplicate Detection:** Employ the `drop_duplicates()` function available in Python to identify and remove duplicate rows. This function identifies rows with identical data across all columns and eliminates the duplicate entries."
   ]
  },
  {
   "cell_type": "code",
   "execution_count": 29,
   "id": "2aacaea1",
   "metadata": {},
   "outputs": [
    {
     "name": "stdout",
     "output_type": "stream",
     "text": [
      "Number of records after removing customer_id, duplicates : 3912\n",
      "Number of records in original dataset : 3912\n"
     ]
    }
   ],
   "source": [
    "cust_demo_dedupped = custdemo_df.drop('customer_id', axis=1).drop_duplicates()\n",
    "\n",
    "print(\"Number of records after removing customer_id, duplicates : {}\".format(cust_demo_dedupped.shape[0]))\n",
    "print(\"Number of records in original dataset : {}\".format(custdemo_df.shape[0]))"
   ]
  },
  {
   "cell_type": "code",
   "execution_count": 30,
   "id": "e163fdb6",
   "metadata": {},
   "outputs": [],
   "source": [
    "custdemo_df.to_csv(\"D:\\Sem 3\\PRJ-1\\CustomerDemographic_Cleaned.csv\", index=False)"
   ]
  }
 ],
 "metadata": {
  "kernelspec": {
   "display_name": "Python 3 (ipykernel)",
   "language": "python",
   "name": "python3"
  },
  "language_info": {
   "codemirror_mode": {
    "name": "ipython",
    "version": 3
   },
   "file_extension": ".py",
   "mimetype": "text/x-python",
   "name": "python",
   "nbconvert_exporter": "python",
   "pygments_lexer": "ipython3",
   "version": "3.10.13"
  }
 },
 "nbformat": 4,
 "nbformat_minor": 5
}
